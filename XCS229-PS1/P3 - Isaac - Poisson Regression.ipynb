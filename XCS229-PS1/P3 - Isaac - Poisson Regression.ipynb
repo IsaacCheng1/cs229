{
 "cells": [
  {
   "cell_type": "code",
   "execution_count": 1,
   "id": "cf23e99e",
   "metadata": {},
   "outputs": [],
   "source": [
    "import matplotlib.pyplot as plt\n",
    "import numpy as np"
   ]
  },
  {
   "cell_type": "code",
   "execution_count": 2,
   "id": "7e4e0470",
   "metadata": {},
   "outputs": [],
   "source": [
    "import src.util as util\n",
    "from src.linear_model import LinearModel"
   ]
  },
  {
   "cell_type": "code",
   "execution_count": 14,
   "id": "82bd2c57",
   "metadata": {},
   "outputs": [],
   "source": [
    "class PoissonRegression(LinearModel):\n",
    "    \"\"\"Poisson Regression.\n",
    "\n",
    "    Example usage:\n",
    "        > clf = PoissonRegression(step_size=lr)\n",
    "        > clf.fit(x_train, y_train)\n",
    "        > clf.predict(x_eval)\n",
    "    \"\"\"\n",
    "\n",
    "    def fit(self, x, y):\n",
    "        \"\"\"Run gradient ascent to maximize likelihood for Poisson regression.\n",
    "\n",
    "        Args:\n",
    "            x: Training example inputs. Shape (m, n).\n",
    "            y: Training example labels. Shape (m,).\n",
    "        \"\"\"\n",
    "        # *** START CODE HERE ***\n",
    "        m, n = x.shape\n",
    "        if self.theta is None:\n",
    "            self.theta = np.zeros(n)\n",
    "\n",
    "        while True:\n",
    "            gradient = np.dot(x.T , y - np.exp(np.dot(x, self.theta)))\n",
    "            theta = self.theta + self.step_size / m * gradient\n",
    "\n",
    "            if np.linalg.norm(theta - self.theta, ord = 1) < self.eps:\n",
    "                self.theta = theta\n",
    "                break\n",
    "            self.theta = theta\n",
    "        # *** END CODE HERE ***\n",
    "\n",
    "    def predict(self, x):\n",
    "        \"\"\"Make a prediction given inputs x.\n",
    "\n",
    "        Args:\n",
    "            x: Inputs of shape (m, n).\n",
    "\n",
    "        Returns:\n",
    "            Floating-point prediction for each input, shape (m,).\n",
    "        \"\"\"\n",
    "        # *** START CODE HERE ***\n",
    "        return np.exp(np.dot(x, self.theta))\n",
    "        # *** END CODE HERE ***"
   ]
  },
  {
   "cell_type": "code",
   "execution_count": 15,
   "id": "75a9fc49",
   "metadata": {},
   "outputs": [],
   "source": [
    "train_path = 'data/ds4_train.csv'\n",
    "eval_path = 'data/ds4_valid.csv'\n",
    "\n",
    "# Load training set\n",
    "x_train, y_train = util.load_dataset(train_path, add_intercept=False)\n",
    "\n",
    "lr = 2e-7\n",
    "clf = PoissonRegression(step_size=lr)\n",
    "clf.fit(x_train, y_train)"
   ]
  },
  {
   "cell_type": "code",
   "execution_count": 16,
   "id": "308cfa49",
   "metadata": {},
   "outputs": [],
   "source": [
    "x_eval, y_eval = util.load_dataset(eval_path, add_intercept=False)\n",
    "y = clf.predict(x_eval)"
   ]
  },
  {
   "cell_type": "code",
   "execution_count": 17,
   "id": "0b090e77",
   "metadata": {},
   "outputs": [
    {
     "data": {
      "text/plain": [
       "array([11.29965464, 10.79963034,  2.000159  ,  4.40029085])"
      ]
     },
     "execution_count": 17,
     "metadata": {},
     "output_type": "execute_result"
    }
   ],
   "source": [
    "clf.theta"
   ]
  },
  {
   "cell_type": "code",
   "execution_count": 20,
   "id": "a89ba76b",
   "metadata": {},
   "outputs": [
    {
     "data": {
      "image/png": "[encoded data removed]",
      "text/plain": [
       "<Figure size 432x288 with 1 Axes>"
      ]
     },
     "metadata": {
      "needs_background": "light"
     },
     "output_type": "display_data"
    }
   ],
   "source": [
    "plt.figure()\n",
    "plt.plot(y, y_eval, 'bx', linewidth=2)\n",
    "plt.xlabel('y_pred')\n",
    "plt.ylabel('y')\n",
    "plt.savefig('p3_d')"
   ]
  },
  {
   "cell_type": "code",
   "execution_count": null,
   "id": "835bb503",
   "metadata": {},
   "outputs": [],
   "source": []
  }
 ],
 "metadata": {
  "kernelspec": {
   "display_name": "XCS224N",
   "language": "python",
   "name": "xcs224n"
  },
  "language_info": {
   "codemirror_mode": {
    "name": "ipython",
    "version": 3
   },
   "file_extension": ".py",
   "mimetype": "text/x-python",
   "name": "python",
   "nbconvert_exporter": "python",
   "pygments_lexer": "ipython3",
   "version": "3.8.13"
  }
 },
 "nbformat": 4,
 "nbformat_minor": 5
}
